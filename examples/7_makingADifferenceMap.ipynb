{
 "cells": [
  {
   "cell_type": "markdown",
   "metadata": {},
   "source": [
    "# Making Your Own Weighted Difference Map \n",
    "\n",
    "A common methodology for investigating structural changes in change-of-state crystallography experiments is using difference maps between structure factor amplitudes collected with and without a perturbation. These $(|F_{On}| - |F_{Off}|)$ maps may be noisy due to systematic errors or scaling artifacts, and have historically been weighted based on the magnitude of the difference signal and/or the error estimates associated with the measured values.  \n",
    "\n",
    "In the previous notebook, we used PYP data to make a weighted difference map. This notebook is a template to allow you to make your own difference map using your own data.\n",
    "\n",
    "<div class=\"alert alert-block alert-info\">\n",
    "<b>Note:</b> To run this, you will be uploading MTZ files to this notebook. Although these files will be on a server temporarily, they are deleted once this notebook is closed.\n",
    "</div>"
   ]
  },
  {
   "cell_type": "code",
   "execution_count": 1,
   "metadata": {
    "execution": {
     "iopub.execute_input": "2025-03-26T17:42:57.083797Z",
     "iopub.status.busy": "2025-03-26T17:42:57.083626Z",
     "iopub.status.idle": "2025-03-26T17:42:58.130657Z",
     "shell.execute_reply": "2025-03-26T17:42:58.129982Z"
    }
   },
   "outputs": [],
   "source": [
    "%matplotlib inline\n",
    "import matplotlib.pyplot as plt\n",
    "import seaborn as sns\n",
    "sns.set_context(\"notebook\", font_scale=1.4)\n",
    "import numpy as np"
   ]
  },
  {
   "cell_type": "code",
   "execution_count": 2,
   "metadata": {
    "execution": {
     "iopub.execute_input": "2025-03-26T17:42:58.133071Z",
     "iopub.status.busy": "2025-03-26T17:42:58.132772Z",
     "iopub.status.idle": "2025-03-26T17:42:58.522570Z",
     "shell.execute_reply": "2025-03-26T17:42:58.521936Z"
    }
   },
   "outputs": [],
   "source": [
    "import reciprocalspaceship as rs"
   ]
  },
  {
   "cell_type": "code",
   "execution_count": 3,
   "metadata": {
    "execution": {
     "iopub.execute_input": "2025-03-26T17:42:58.524943Z",
     "iopub.status.busy": "2025-03-26T17:42:58.524540Z",
     "iopub.status.idle": "2025-03-26T17:42:58.528014Z",
     "shell.execute_reply": "2025-03-26T17:42:58.527316Z"
    }
   },
   "outputs": [
    {
     "name": "stdout",
     "output_type": "stream",
     "text": [
      "1.0.3\n"
     ]
    }
   ],
   "source": [
    "print(rs.__version__)"
   ]
  },
  {
   "cell_type": "markdown",
   "metadata": {},
   "source": [
    "---\n",
    "### Load `On` and `Off` DataSets  \n",
    "\n",
    "You will specify `On` and `Off` MTZ files that are uploaded to this notebook. It is assumed that there is exactly one column in each MTZ containing structure factors and one column containing uncertainties in those structure factors. If there are multiple columns with each data type, only the first will be used."
   ]
  },
  {
   "cell_type": "code",
   "execution_count": 4,
   "metadata": {
    "execution": {
     "iopub.execute_input": "2025-03-26T17:42:58.559665Z",
     "iopub.status.busy": "2025-03-26T17:42:58.559081Z",
     "iopub.status.idle": "2025-03-26T17:42:58.569283Z",
     "shell.execute_reply": "2025-03-26T17:42:58.568793Z"
    }
   },
   "outputs": [
    {
     "name": "stdout",
     "output_type": "stream",
     "text": [
      "On MTZ:\n"
     ]
    },
    {
     "data": {
      "application/vnd.jupyter.widget-view+json": {
       "model_id": "d30853bd077749a698fbf3a56ae97f21",
       "version_major": 2,
       "version_minor": 0
      },
      "text/plain": [
       "FileUpload(value=(), accept='.mtz', description='Upload')"
      ]
     },
     "metadata": {},
     "output_type": "display_data"
    },
    {
     "name": "stdout",
     "output_type": "stream",
     "text": [
      "Off MTZ:\n"
     ]
    },
    {
     "data": {
      "application/vnd.jupyter.widget-view+json": {
       "model_id": "85f50404120945179e25f482eddaab40",
       "version_major": 2,
       "version_minor": 0
      },
      "text/plain": [
       "FileUpload(value=(), accept='.mtz', description='Upload')"
      ]
     },
     "metadata": {},
     "output_type": "display_data"
    }
   ],
   "source": [
    "import ipywidgets as widgets\n",
    "from IPython.display import display\n",
    "import io\n",
    "\n",
    "print(\"On MTZ:\")\n",
    "uploader_on = widgets.FileUpload(accept=\".mtz\", multiple=False)\n",
    "display(uploader_on)\n",
    "\n",
    "print(\"Off MTZ:\")\n",
    "uploader_off = widgets.FileUpload(accept=\".mtz\", multiple=False)\n",
    "display(uploader_off)"
   ]
  },
  {
   "cell_type": "code",
   "execution_count": 5,
   "metadata": {
    "execution": {
     "iopub.execute_input": "2025-03-26T17:42:58.570965Z",
     "iopub.status.busy": "2025-03-26T17:42:58.570692Z",
     "iopub.status.idle": "2025-03-26T17:42:58.574208Z",
     "shell.execute_reply": "2025-03-26T17:42:58.573627Z"
    }
   },
   "outputs": [],
   "source": [
    "def read_uploadedFile(uploadedFile):\n",
    "    \"\"\"Use temporary file to read uploaded data\"\"\"\n",
    "    from tempfile import NamedTemporaryFile\n",
    "    upload = NamedTemporaryFile(suffix=\"mtz\")\n",
    "    upload.write(uploadedFile.data[0])\n",
    "    mtz = rs.read_mtz(upload.name)\n",
    "    upload.close()\n",
    "    return mtz"
   ]
  },
  {
   "cell_type": "code",
   "execution_count": 6,
   "metadata": {
    "execution": {
     "iopub.execute_input": "2025-03-26T17:42:58.576121Z",
     "iopub.status.busy": "2025-03-26T17:42:58.575710Z",
     "iopub.status.idle": "2025-03-26T17:42:58.892526Z",
     "shell.execute_reply": "2025-03-26T17:42:58.891802Z"
    }
   },
   "outputs": [
    {
     "ename": "AttributeError",
     "evalue": "'FileUpload' object has no attribute 'data'",
     "output_type": "error",
     "traceback": [
      "\u001b[31m---------------------------------------------------------------------------\u001b[39m",
      "\u001b[31mAttributeError\u001b[39m                            Traceback (most recent call last)",
      "\u001b[36mCell\u001b[39m\u001b[36m \u001b[39m\u001b[32mIn[6]\u001b[39m\u001b[32m, line 1\u001b[39m\n\u001b[32m----> \u001b[39m\u001b[32m1\u001b[39m mtz_on  = \u001b[43mread_uploadedFile\u001b[49m\u001b[43m(\u001b[49m\u001b[43muploader_on\u001b[49m\u001b[43m)\u001b[49m\n\u001b[32m      2\u001b[39m mtz_off = read_uploadedFile(uploader_off)\n",
      "\u001b[36mCell\u001b[39m\u001b[36m \u001b[39m\u001b[32mIn[5]\u001b[39m\u001b[32m, line 5\u001b[39m, in \u001b[36mread_uploadedFile\u001b[39m\u001b[34m(uploadedFile)\u001b[39m\n\u001b[32m      3\u001b[39m \u001b[38;5;28;01mfrom\u001b[39;00m\u001b[38;5;250m \u001b[39m\u001b[34;01mtempfile\u001b[39;00m\u001b[38;5;250m \u001b[39m\u001b[38;5;28;01mimport\u001b[39;00m NamedTemporaryFile\n\u001b[32m      4\u001b[39m upload = NamedTemporaryFile(suffix=\u001b[33m\"\u001b[39m\u001b[33mmtz\u001b[39m\u001b[33m\"\u001b[39m)\n\u001b[32m----> \u001b[39m\u001b[32m5\u001b[39m upload.write(\u001b[43muploadedFile\u001b[49m\u001b[43m.\u001b[49m\u001b[43mdata\u001b[49m[\u001b[32m0\u001b[39m])\n\u001b[32m      6\u001b[39m mtz = rs.read_mtz(upload.name)\n\u001b[32m      7\u001b[39m upload.close()\n",
      "\u001b[31mAttributeError\u001b[39m: 'FileUpload' object has no attribute 'data'"
     ]
    }
   ],
   "source": [
    "mtz_on  = read_uploadedFile(uploader_on)\n",
    "mtz_off = read_uploadedFile(uploader_off)"
   ]
  },
  {
   "cell_type": "markdown",
   "metadata": {},
   "source": [
    "The on file looks like this:"
   ]
  },
  {
   "cell_type": "code",
   "execution_count": 7,
   "metadata": {
    "execution": {
     "iopub.execute_input": "2025-03-26T17:42:58.894651Z",
     "iopub.status.busy": "2025-03-26T17:42:58.894425Z",
     "iopub.status.idle": "2025-03-26T17:42:58.913922Z",
     "shell.execute_reply": "2025-03-26T17:42:58.913451Z"
    }
   },
   "outputs": [
    {
     "ename": "NameError",
     "evalue": "name 'mtz_on' is not defined",
     "output_type": "error",
     "traceback": [
      "\u001b[31m---------------------------------------------------------------------------\u001b[39m",
      "\u001b[31mNameError\u001b[39m                                 Traceback (most recent call last)",
      "\u001b[36mCell\u001b[39m\u001b[36m \u001b[39m\u001b[32mIn[7]\u001b[39m\u001b[32m, line 1\u001b[39m\n\u001b[32m----> \u001b[39m\u001b[32m1\u001b[39m \u001b[43mmtz_on\u001b[49m\n",
      "\u001b[31mNameError\u001b[39m: name 'mtz_on' is not defined"
     ]
    }
   ],
   "source": [
    "mtz_on"
   ]
  },
  {
   "cell_type": "code",
   "execution_count": 8,
   "metadata": {
    "execution": {
     "iopub.execute_input": "2025-03-26T17:42:58.915624Z",
     "iopub.status.busy": "2025-03-26T17:42:58.915451Z",
     "iopub.status.idle": "2025-03-26T17:42:58.918697Z",
     "shell.execute_reply": "2025-03-26T17:42:58.918256Z"
    }
   },
   "outputs": [],
   "source": [
    "def subset_to_F_and_SigF(mtz):\n",
    "    F_column = [ l for l in mtz.columns if mtz[l].dtype.mtztype == \"F\"]\n",
    "    SigF_column = [ l for l in mtz.columns if mtz[l].dtype.mtztype == \"Q\"]\n",
    "    return mtz[[F_column[0], SigF_column[0]]]"
   ]
  },
  {
   "cell_type": "code",
   "execution_count": 9,
   "metadata": {
    "execution": {
     "iopub.execute_input": "2025-03-26T17:42:58.920245Z",
     "iopub.status.busy": "2025-03-26T17:42:58.920083Z",
     "iopub.status.idle": "2025-03-26T17:42:58.938007Z",
     "shell.execute_reply": "2025-03-26T17:42:58.937443Z"
    }
   },
   "outputs": [
    {
     "ename": "NameError",
     "evalue": "name 'mtz_on' is not defined",
     "output_type": "error",
     "traceback": [
      "\u001b[31m---------------------------------------------------------------------------\u001b[39m",
      "\u001b[31mNameError\u001b[39m                                 Traceback (most recent call last)",
      "\u001b[36mCell\u001b[39m\u001b[36m \u001b[39m\u001b[32mIn[9]\u001b[39m\u001b[32m, line 1\u001b[39m\n\u001b[32m----> \u001b[39m\u001b[32m1\u001b[39m mtz_on = subset_to_F_and_SigF(\u001b[43mmtz_on\u001b[49m)\n\u001b[32m      2\u001b[39m mtz_off = subset_to_F_and_SigF(mtz_off)\n",
      "\u001b[31mNameError\u001b[39m: name 'mtz_on' is not defined"
     ]
    }
   ],
   "source": [
    "mtz_on = subset_to_F_and_SigF(mtz_on)\n",
    "mtz_off = subset_to_F_and_SigF(mtz_off)"
   ]
  },
  {
   "cell_type": "markdown",
   "metadata": {},
   "source": [
    "Since difference maps can only be made with Fourier magnitudes that were measured in both datasets, we will subset the datasets to their common Miller indices."
   ]
  },
  {
   "cell_type": "code",
   "execution_count": 10,
   "metadata": {
    "execution": {
     "iopub.execute_input": "2025-03-26T17:42:58.939823Z",
     "iopub.status.busy": "2025-03-26T17:42:58.939651Z",
     "iopub.status.idle": "2025-03-26T17:42:58.959559Z",
     "shell.execute_reply": "2025-03-26T17:42:58.959000Z"
    }
   },
   "outputs": [
    {
     "ename": "NameError",
     "evalue": "name 'mtz_off' is not defined",
     "output_type": "error",
     "traceback": [
      "\u001b[31m---------------------------------------------------------------------------\u001b[39m",
      "\u001b[31mNameError\u001b[39m                                 Traceback (most recent call last)",
      "\u001b[36mCell\u001b[39m\u001b[36m \u001b[39m\u001b[32mIn[10]\u001b[39m\u001b[32m, line 1\u001b[39m\n\u001b[32m----> \u001b[39m\u001b[32m1\u001b[39m diff = \u001b[43mmtz_off\u001b[49m.merge(mtz_on, left_index=\u001b[38;5;28;01mTrue\u001b[39;00m, right_index=\u001b[38;5;28;01mTrue\u001b[39;00m, suffixes=(\u001b[33m\"\u001b[39m\u001b[33m_off\u001b[39m\u001b[33m\"\u001b[39m, \u001b[33m\"\u001b[39m\u001b[33m_on\u001b[39m\u001b[33m\"\u001b[39m))\n",
      "\u001b[31mNameError\u001b[39m: name 'mtz_off' is not defined"
     ]
    }
   ],
   "source": [
    "diff = mtz_off.merge(mtz_on, left_index=True, right_index=True, suffixes=(\"_off\", \"_on\"))"
   ]
  },
  {
   "cell_type": "code",
   "execution_count": 11,
   "metadata": {
    "execution": {
     "iopub.execute_input": "2025-03-26T17:42:58.961243Z",
     "iopub.status.busy": "2025-03-26T17:42:58.961075Z",
     "iopub.status.idle": "2025-03-26T17:42:58.980038Z",
     "shell.execute_reply": "2025-03-26T17:42:58.979549Z"
    }
   },
   "outputs": [
    {
     "ename": "NameError",
     "evalue": "name 'diff' is not defined",
     "output_type": "error",
     "traceback": [
      "\u001b[31m---------------------------------------------------------------------------\u001b[39m",
      "\u001b[31mNameError\u001b[39m                                 Traceback (most recent call last)",
      "\u001b[36mCell\u001b[39m\u001b[36m \u001b[39m\u001b[32mIn[11]\u001b[39m\u001b[32m, line 1\u001b[39m\n\u001b[32m----> \u001b[39m\u001b[32m1\u001b[39m \u001b[43mdiff\u001b[49m.head()\n",
      "\u001b[31mNameError\u001b[39m: name 'diff' is not defined"
     ]
    }
   ],
   "source": [
    "diff.head()"
   ]
  },
  {
   "cell_type": "markdown",
   "metadata": {},
   "source": [
    "---\n",
    "### Compute Difference Map Coefficients and Errors  \n",
    "\n",
    "We will compute $(|F_{On}| - |F_{Off}|)$ for use as the coefficients of the difference map, and we will propagate the uncertainties in quadrature. These propagated uncertainties will be used when computing weights for each Miller index."
   ]
  },
  {
   "cell_type": "code",
   "execution_count": 12,
   "metadata": {
    "execution": {
     "iopub.execute_input": "2025-03-26T17:42:58.981853Z",
     "iopub.status.busy": "2025-03-26T17:42:58.981516Z",
     "iopub.status.idle": "2025-03-26T17:42:59.001088Z",
     "shell.execute_reply": "2025-03-26T17:42:59.000607Z"
    }
   },
   "outputs": [
    {
     "ename": "NameError",
     "evalue": "name 'diff' is not defined",
     "output_type": "error",
     "traceback": [
      "\u001b[31m---------------------------------------------------------------------------\u001b[39m",
      "\u001b[31mNameError\u001b[39m                                 Traceback (most recent call last)",
      "\u001b[36mCell\u001b[39m\u001b[36m \u001b[39m\u001b[32mIn[12]\u001b[39m\u001b[32m, line 1\u001b[39m\n\u001b[32m----> \u001b[39m\u001b[32m1\u001b[39m diff[\u001b[33m\"\u001b[39m\u001b[33mDF\u001b[39m\u001b[33m\"\u001b[39m] = (\u001b[43mdiff\u001b[49m[\u001b[33m\"\u001b[39m\u001b[33mF_on\u001b[39m\u001b[33m\"\u001b[39m] - diff[\u001b[33m\"\u001b[39m\u001b[33mF_off\u001b[39m\u001b[33m\"\u001b[39m]).astype(\u001b[33m\"\u001b[39m\u001b[33mSFAmplitude\u001b[39m\u001b[33m\"\u001b[39m)\n\u001b[32m      2\u001b[39m diff[\u001b[33m\"\u001b[39m\u001b[33mSigDF\u001b[39m\u001b[33m\"\u001b[39m] = np.sqrt(diff[\u001b[33m\"\u001b[39m\u001b[33mSigF_on\u001b[39m\u001b[33m\"\u001b[39m]**\u001b[32m2\u001b[39m + diff[\u001b[33m\"\u001b[39m\u001b[33mSigF_off\u001b[39m\u001b[33m\"\u001b[39m]**\u001b[32m2\u001b[39m).astype(\u001b[33m\"\u001b[39m\u001b[33mStddev\u001b[39m\u001b[33m\"\u001b[39m)\n",
      "\u001b[31mNameError\u001b[39m: name 'diff' is not defined"
     ]
    }
   ],
   "source": [
    "diff[\"DF\"] = (diff[\"F_on\"] - diff[\"F_off\"]).astype(\"SFAmplitude\")\n",
    "diff[\"SigDF\"] = np.sqrt(diff[\"SigF_on\"]**2 + diff[\"SigF_off\"]**2).astype(\"Stddev\")"
   ]
  },
  {
   "cell_type": "markdown",
   "metadata": {},
   "source": [
    "---\n",
    "### Compute Difference Map Weights  \n",
    "\n",
    "There are several weighting schemes that have been used to produce time-resolved difference maps. Many of them take the form below, involving a term based on the uncertainty in the difference structure factor amplitude ($\\sigma_{\\Delta F}$), and optionally, a scale term based on the the magnitude of the observed $\\Delta F$. With $\\alpha=0$, these weights take the form employed in [Ursby and Bourgeois, **Acta Cryst** (1997)](https://scripts.iucr.org/cgi-bin/paper?he0183). On the other hand, [Šrajer *et al*, **Biochemistry** (2001)](https://pubs.acs.org/doi/10.1021/bi010715u) employed weights with $\\alpha=1$ in order to decrease the impact of abnormally large values of $\\Delta F$ that may have erroneously small uncertainties. Finally, other weighting schemes have employed intermediate values of $\\alpha$ ([Hekstra *et al*, **Nature** (2016)](https://www.nature.com/articles/nature20571)). \n",
    "\n",
    "\\begin{equation}\n",
    "w = \\left(1 + \\frac{\\sigma_{\\Delta F}^2}{\\overline{\\sigma_{\\Delta F}^2}} + \\alpha\\frac{|\\Delta F|^2}{\\overline{ |\\Delta F|^2 }} \\right)^{-1}\n",
    "\\end{equation}  \n",
    "\n",
    "For illustration purposes, we will compute weights with $\\alpha=0.05$."
   ]
  },
  {
   "cell_type": "code",
   "execution_count": 13,
   "metadata": {
    "execution": {
     "iopub.execute_input": "2025-03-26T17:42:59.002803Z",
     "iopub.status.busy": "2025-03-26T17:42:59.002526Z",
     "iopub.status.idle": "2025-03-26T17:42:59.005917Z",
     "shell.execute_reply": "2025-03-26T17:42:59.005368Z"
    }
   },
   "outputs": [],
   "source": [
    "def compute_weights(df, sigdf, alpha=0):\n",
    "    \"\"\"\n",
    "    Compute weights for each structure factor based on deltaF and its uncertainty\n",
    "    \"\"\"\n",
    "    w = (1 + (sigdf**2 / (sigdf**2).mean()) + alpha*(df**2 / (df**2).mean()))\n",
    "    return w**-1"
   ]
  },
  {
   "cell_type": "code",
   "execution_count": 14,
   "metadata": {
    "execution": {
     "iopub.execute_input": "2025-03-26T17:42:59.007701Z",
     "iopub.status.busy": "2025-03-26T17:42:59.007287Z",
     "iopub.status.idle": "2025-03-26T17:42:59.027223Z",
     "shell.execute_reply": "2025-03-26T17:42:59.026742Z"
    }
   },
   "outputs": [
    {
     "ename": "NameError",
     "evalue": "name 'diff' is not defined",
     "output_type": "error",
     "traceback": [
      "\u001b[31m---------------------------------------------------------------------------\u001b[39m",
      "\u001b[31mNameError\u001b[39m                                 Traceback (most recent call last)",
      "\u001b[36mCell\u001b[39m\u001b[36m \u001b[39m\u001b[32mIn[14]\u001b[39m\u001b[32m, line 1\u001b[39m\n\u001b[32m----> \u001b[39m\u001b[32m1\u001b[39m diff[\u001b[33m\"\u001b[39m\u001b[33mW\u001b[39m\u001b[33m\"\u001b[39m] = compute_weights(\u001b[43mdiff\u001b[49m[\u001b[33m\"\u001b[39m\u001b[33mDF\u001b[39m\u001b[33m\"\u001b[39m], diff[\u001b[33m\"\u001b[39m\u001b[33mSigDF\u001b[39m\u001b[33m\"\u001b[39m], alpha=\u001b[32m0.00\u001b[39m)\n\u001b[32m      2\u001b[39m diff[\u001b[33m\"\u001b[39m\u001b[33mW\u001b[39m\u001b[33m\"\u001b[39m] = diff[\u001b[33m\"\u001b[39m\u001b[33mW\u001b[39m\u001b[33m\"\u001b[39m].astype(\u001b[33m\"\u001b[39m\u001b[33mW\u001b[39m\u001b[33m\"\u001b[39m)\n",
      "\u001b[31mNameError\u001b[39m: name 'diff' is not defined"
     ]
    }
   ],
   "source": [
    "diff[\"W\"] = compute_weights(diff[\"DF\"], diff[\"SigDF\"], alpha=0.00)\n",
    "diff[\"W\"] = diff[\"W\"].astype(\"W\")"
   ]
  },
  {
   "cell_type": "markdown",
   "metadata": {},
   "source": [
    "Let's visualize the weights relative to the magnitude of $\\Delta F$ and the signal-to-noise ratio in order to understand how they will affect different structure factors."
   ]
  },
  {
   "cell_type": "code",
   "execution_count": 15,
   "metadata": {
    "execution": {
     "iopub.execute_input": "2025-03-26T17:42:59.029069Z",
     "iopub.status.busy": "2025-03-26T17:42:59.028874Z",
     "iopub.status.idle": "2025-03-26T17:42:59.139591Z",
     "shell.execute_reply": "2025-03-26T17:42:59.139126Z"
    }
   },
   "outputs": [
    {
     "ename": "NameError",
     "evalue": "name 'diff' is not defined",
     "output_type": "error",
     "traceback": [
      "\u001b[31m---------------------------------------------------------------------------\u001b[39m",
      "\u001b[31mNameError\u001b[39m                                 Traceback (most recent call last)",
      "\u001b[36mCell\u001b[39m\u001b[36m \u001b[39m\u001b[32mIn[15]\u001b[39m\u001b[32m, line 2\u001b[39m\n\u001b[32m      1\u001b[39m fig, ax = plt.subplots(figsize=(\u001b[32m10\u001b[39m, \u001b[32m7\u001b[39m))\n\u001b[32m----> \u001b[39m\u001b[32m2\u001b[39m pts = ax.scatter(\u001b[43mdiff\u001b[49m.DF, diff.DF.abs()/diff.SigDF, c=diff.W)\n\u001b[32m      3\u001b[39m x1, x2 = plt.gca().get_xlim()\n\u001b[32m      4\u001b[39m ax.set_xlim(x1-\u001b[32m0.5\u001b[39m, x2+\u001b[32m0.5\u001b[39m)\n",
      "\u001b[31mNameError\u001b[39m: name 'diff' is not defined"
     ]
    },
    {
     "data": {
      "image/png": "[encoded data removed]",
      "text/plain": [
       "<Figure size 1000x700 with 1 Axes>"
      ]
     },
     "metadata": {},
     "output_type": "display_data"
    }
   ],
   "source": [
    "fig, ax = plt.subplots(figsize=(10, 7))\n",
    "pts = ax.scatter(diff.DF, diff.DF.abs()/diff.SigDF, c=diff.W)\n",
    "x1, x2 = plt.gca().get_xlim()\n",
    "ax.set_xlim(x1-0.5, x2+0.5)\n",
    "ax.set_xlabel(r\"$\\Delta F$\")\n",
    "ax.set_ylabel(r\"$\\frac{\\left| \\Delta F \\right|}{\\sigma_{\\Delta F}}$\")\n",
    "\n",
    "# Inset\n",
    "axins = ax.inset_axes([0.6, 0.6, 0.37, 0.37])\n",
    "axins.scatter(diff.DF, diff.DF.abs()/diff.SigDF, c=diff.W)\n",
    "y1, y2 = 0, 10\n",
    "axins.set_xlim(x1, x2)\n",
    "axins.set_ylim(y1, y2)\n",
    "ax.indicate_inset_zoom(axins)\n",
    "\n",
    "fig.colorbar(pts, label=\"Weight\")\n",
    "plt.show()"
   ]
  },
  {
   "cell_type": "markdown",
   "metadata": {},
   "source": [
    "As seen in the above plot, difference Fourier coefficients with low signal-to-noise ratios (large $\\sigma_{\\Delta F}$ relative to $|\\Delta F|$) are assigned lower weight. Difference Fourier coefficients with large amplitude are also assigned lower weight."
   ]
  },
  {
   "cell_type": "markdown",
   "metadata": {},
   "source": [
    "---\n",
    "### Phasing the Difference Map\n",
    "\n",
    "We have our difference Fourier amplitudes and weights, so we just need phases in order to make a difference map. We will use the phases from an uploaded MTZ file -- this should correspond to an isomorphous refined structure for the system of interest. If a column named `PH2FOFCWT` is defined, it is used. Otherwise, the first column of phases is used."
   ]
  },
  {
   "cell_type": "code",
   "execution_count": 16,
   "metadata": {
    "execution": {
     "iopub.execute_input": "2025-03-26T17:42:59.141452Z",
     "iopub.status.busy": "2025-03-26T17:42:59.141129Z",
     "iopub.status.idle": "2025-03-26T17:42:59.147062Z",
     "shell.execute_reply": "2025-03-26T17:42:59.146492Z"
    }
   },
   "outputs": [
    {
     "name": "stdout",
     "output_type": "stream",
     "text": [
      "Reference MTZ with Phases:\n"
     ]
    },
    {
     "data": {
      "application/vnd.jupyter.widget-view+json": {
       "model_id": "932d42b59c5243abb63672bea93e1891",
       "version_major": 2,
       "version_minor": 0
      },
      "text/plain": [
       "FileUpload(value=(), accept='.mtz', description='Upload')"
      ]
     },
     "metadata": {},
     "output_type": "display_data"
    }
   ],
   "source": [
    "print(\"Reference MTZ with Phases:\")\n",
    "uploader_ref = widgets.FileUpload(accept=\".mtz\", multiple=False)\n",
    "display(uploader_ref)"
   ]
  },
  {
   "cell_type": "code",
   "execution_count": 17,
   "metadata": {
    "execution": {
     "iopub.execute_input": "2025-03-26T17:42:59.148772Z",
     "iopub.status.busy": "2025-03-26T17:42:59.148365Z",
     "iopub.status.idle": "2025-03-26T17:42:59.177578Z",
     "shell.execute_reply": "2025-03-26T17:42:59.177028Z"
    }
   },
   "outputs": [
    {
     "ename": "AttributeError",
     "evalue": "'FileUpload' object has no attribute 'data'",
     "output_type": "error",
     "traceback": [
      "\u001b[31m---------------------------------------------------------------------------\u001b[39m",
      "\u001b[31mAttributeError\u001b[39m                            Traceback (most recent call last)",
      "\u001b[36mCell\u001b[39m\u001b[36m \u001b[39m\u001b[32mIn[17]\u001b[39m\u001b[32m, line 1\u001b[39m\n\u001b[32m----> \u001b[39m\u001b[32m1\u001b[39m mtz_ref = \u001b[43mread_uploadedFile\u001b[49m\u001b[43m(\u001b[49m\u001b[43muploader_ref\u001b[49m\u001b[43m)\u001b[49m\n",
      "\u001b[36mCell\u001b[39m\u001b[36m \u001b[39m\u001b[32mIn[5]\u001b[39m\u001b[32m, line 5\u001b[39m, in \u001b[36mread_uploadedFile\u001b[39m\u001b[34m(uploadedFile)\u001b[39m\n\u001b[32m      3\u001b[39m \u001b[38;5;28;01mfrom\u001b[39;00m\u001b[38;5;250m \u001b[39m\u001b[34;01mtempfile\u001b[39;00m\u001b[38;5;250m \u001b[39m\u001b[38;5;28;01mimport\u001b[39;00m NamedTemporaryFile\n\u001b[32m      4\u001b[39m upload = NamedTemporaryFile(suffix=\u001b[33m\"\u001b[39m\u001b[33mmtz\u001b[39m\u001b[33m\"\u001b[39m)\n\u001b[32m----> \u001b[39m\u001b[32m5\u001b[39m upload.write(\u001b[43muploadedFile\u001b[49m\u001b[43m.\u001b[49m\u001b[43mdata\u001b[49m[\u001b[32m0\u001b[39m])\n\u001b[32m      6\u001b[39m mtz = rs.read_mtz(upload.name)\n\u001b[32m      7\u001b[39m upload.close()\n",
      "\u001b[31mAttributeError\u001b[39m: 'FileUpload' object has no attribute 'data'"
     ]
    }
   ],
   "source": [
    "mtz_ref = read_uploadedFile(uploader_ref)"
   ]
  },
  {
   "cell_type": "code",
   "execution_count": 18,
   "metadata": {
    "execution": {
     "iopub.execute_input": "2025-03-26T17:42:59.179371Z",
     "iopub.status.busy": "2025-03-26T17:42:59.179058Z",
     "iopub.status.idle": "2025-03-26T17:42:59.198471Z",
     "shell.execute_reply": "2025-03-26T17:42:59.198004Z"
    }
   },
   "outputs": [
    {
     "ename": "NameError",
     "evalue": "name 'mtz_ref' is not defined",
     "output_type": "error",
     "traceback": [
      "\u001b[31m---------------------------------------------------------------------------\u001b[39m",
      "\u001b[31mNameError\u001b[39m                                 Traceback (most recent call last)",
      "\u001b[36mCell\u001b[39m\u001b[36m \u001b[39m\u001b[32mIn[18]\u001b[39m\u001b[32m, line 1\u001b[39m\n\u001b[32m----> \u001b[39m\u001b[32m1\u001b[39m phases = \u001b[43mmtz_ref\u001b[49m.get_phase_keys()\n\u001b[32m      2\u001b[39m \u001b[38;5;28;01mif\u001b[39;00m \u001b[33m\"\u001b[39m\u001b[33mPH2FOFCWT\u001b[39m\u001b[33m\"\u001b[39m \u001b[38;5;129;01min\u001b[39;00m phases:\n\u001b[32m      3\u001b[39m     phi = \u001b[33m\"\u001b[39m\u001b[33mPH2FOFCWT\u001b[39m\u001b[33m\"\u001b[39m\n",
      "\u001b[31mNameError\u001b[39m: name 'mtz_ref' is not defined"
     ]
    }
   ],
   "source": [
    "phases = mtz_ref.get_phase_keys()\n",
    "if \"PH2FOFCWT\" in phases:\n",
    "    phi = \"PH2FOFCWT\"\n",
    "else:\n",
    "    phi = phases[0]"
   ]
  },
  {
   "cell_type": "code",
   "execution_count": 19,
   "metadata": {
    "execution": {
     "iopub.execute_input": "2025-03-26T17:42:59.200153Z",
     "iopub.status.busy": "2025-03-26T17:42:59.199962Z",
     "iopub.status.idle": "2025-03-26T17:42:59.219489Z",
     "shell.execute_reply": "2025-03-26T17:42:59.218883Z"
    }
   },
   "outputs": [
    {
     "ename": "NameError",
     "evalue": "name 'diff' is not defined",
     "output_type": "error",
     "traceback": [
      "\u001b[31m---------------------------------------------------------------------------\u001b[39m",
      "\u001b[31mNameError\u001b[39m                                 Traceback (most recent call last)",
      "\u001b[36mCell\u001b[39m\u001b[36m \u001b[39m\u001b[32mIn[19]\u001b[39m\u001b[32m, line 1\u001b[39m\n\u001b[32m----> \u001b[39m\u001b[32m1\u001b[39m diff = \u001b[43mdiff\u001b[49m.merge(mtz_ref[phi], left_index=\u001b[38;5;28;01mTrue\u001b[39;00m, right_index=\u001b[38;5;28;01mTrue\u001b[39;00m)\n",
      "\u001b[31mNameError\u001b[39m: name 'diff' is not defined"
     ]
    }
   ],
   "source": [
    "diff = diff.merge(mtz_ref[phi], left_index=True, right_index=True)"
   ]
  },
  {
   "cell_type": "code",
   "execution_count": 20,
   "metadata": {
    "execution": {
     "iopub.execute_input": "2025-03-26T17:42:59.221252Z",
     "iopub.status.busy": "2025-03-26T17:42:59.221084Z",
     "iopub.status.idle": "2025-03-26T17:42:59.239702Z",
     "shell.execute_reply": "2025-03-26T17:42:59.239256Z"
    }
   },
   "outputs": [
    {
     "ename": "NameError",
     "evalue": "name 'diff' is not defined",
     "output_type": "error",
     "traceback": [
      "\u001b[31m---------------------------------------------------------------------------\u001b[39m",
      "\u001b[31mNameError\u001b[39m                                 Traceback (most recent call last)",
      "\u001b[36mCell\u001b[39m\u001b[36m \u001b[39m\u001b[32mIn[20]\u001b[39m\u001b[32m, line 1\u001b[39m\n\u001b[32m----> \u001b[39m\u001b[32m1\u001b[39m \u001b[43mdiff\u001b[49m\n",
      "\u001b[31mNameError\u001b[39m: name 'diff' is not defined"
     ]
    }
   ],
   "source": [
    "diff"
   ]
  },
  {
   "cell_type": "markdown",
   "metadata": {},
   "source": [
    "The object `diff` can now be written to an MTZ file and downloaded to view offline in your GUI of choice -- we will first make a \"download\" button."
   ]
  },
  {
   "cell_type": "code",
   "execution_count": 21,
   "metadata": {
    "execution": {
     "iopub.execute_input": "2025-03-26T17:42:59.241499Z",
     "iopub.status.busy": "2025-03-26T17:42:59.241332Z",
     "iopub.status.idle": "2025-03-26T17:42:59.250609Z",
     "shell.execute_reply": "2025-03-26T17:42:59.250058Z"
    }
   },
   "outputs": [
    {
     "data": {
      "application/vnd.jupyter.widget-view+json": {
       "model_id": "9a9d31662d5c40a69f9dad747ff494d4",
       "version_major": 2,
       "version_minor": 0
      },
      "text/plain": [
       "DownloadButton(description='download', style=ButtonStyle())"
      ]
     },
     "execution_count": 21,
     "metadata": {},
     "output_type": "execute_result"
    }
   ],
   "source": [
    "import base64\n",
    "import hashlib\n",
    "from typing import Callable\n",
    "\n",
    "import ipywidgets\n",
    "from IPython.display import HTML\n",
    "\n",
    "\n",
    "class DownloadButton(ipywidgets.Button):\n",
    "    \"\"\"Download button with dynamic content\n",
    "\n",
    "    The content is generated using a callback when the button is clicked.\n",
    "    \"\"\"\n",
    "\n",
    "    def __init__(self, filename: str, contents: Callable[[], str], **kwargs):\n",
    "        super(DownloadButton, self).__init__(**kwargs)\n",
    "        self.filename = filename\n",
    "        self.contents = contents\n",
    "        self.on_click(self.__on_click)\n",
    "\n",
    "    def __on_click(self, b):\n",
    "        contents: bytes = self.contents()\n",
    "        b64 = base64.encodebytes(contents)\n",
    "        payload = b64.decode()\n",
    "        digest = hashlib.md5(contents).hexdigest()  # bypass browser cache\n",
    "        id = f'dl_{digest}'\n",
    "\n",
    "        display(HTML(f\"\"\"\n",
    "<html>\n",
    "<body>\n",
    "<a id=\"{id}\" download=\"{self.filename}\" href=\"data:text/csv;base64,{payload}\" download>\n",
    "</a>\n",
    "\n",
    "<script>\n",
    "(function download() {{\n",
    "document.getElementById('{id}').click();\n",
    "}})()\n",
    "</script>\n",
    "\n",
    "</body>\n",
    "</html>\n",
    "\"\"\"))\n",
    "\n",
    "def getDiffMap(mtz):\n",
    "    from tempfile import NamedTemporaryFile\n",
    "    from io import BytesIO\n",
    "    download = NamedTemporaryFile(suffix=\"mtz\")\n",
    "    mtz.write_mtz(download.name)\n",
    "    with open(download.name, 'rb') as fh:\n",
    "        buf = BytesIO(fh.read())\n",
    "    download.close()\n",
    "    return buf.getvalue()\n",
    "\n",
    "DownloadButton(filename='diffmap.mtz', contents=lambda: getDiffMap(diff), description='download')"
   ]
  },
  {
   "cell_type": "markdown",
   "metadata": {},
   "source": [
    "Good luck with your weighted difference map!"
   ]
  }
 ],
 "metadata": {
  "kernelspec": {
   "display_name": "Python 3 (ipykernel)",
   "language": "python",
   "name": "python3"
  },
  "language_info": {
   "codemirror_mode": {
    "name": "ipython",
    "version": 3
   },
   "file_extension": ".py",
   "mimetype": "text/x-python",
   "name": "python",
   "nbconvert_exporter": "python",
   "pygments_lexer": "ipython3",
   "version": "3.11.11"
  },
  "widgets": {
   "application/vnd.jupyter.widget-state+json": {
    "state": {
     "2ccb396cf93a4d6bbc10497873ef8426": {
      "model_module": "@jupyter-widgets/base",
      "model_module_version": "2.0.0",
      "model_name": "LayoutModel",
      "state": {
       "_model_module": "@jupyter-widgets/base",
       "_model_module_version": "2.0.0",
       "_model_name": "LayoutModel",
       "_view_count": null,
       "_view_module": "@jupyter-widgets/base",
       "_view_module_version": "2.0.0",
       "_view_name": "LayoutView",
       "align_content": null,
       "align_items": null,
       "align_self": null,
       "border_bottom": null,
       "border_left": null,
       "border_right": null,
       "border_top": null,
       "bottom": null,
       "display": null,
       "flex": null,
       "flex_flow": null,
       "grid_area": null,
       "grid_auto_columns": null,
       "grid_auto_flow": null,
       "grid_auto_rows": null,
       "grid_column": null,
       "grid_gap": null,
       "grid_row": null,
       "grid_template_areas": null,
       "grid_template_columns": null,
       "grid_template_rows": null,
       "height": null,
       "justify_content": null,
       "justify_items": null,
       "left": null,
       "margin": null,
       "max_height": null,
       "max_width": null,
       "min_height": null,
       "min_width": null,
       "object_fit": null,
       "object_position": null,
       "order": null,
       "overflow": null,
       "padding": null,
       "right": null,
       "top": null,
       "visibility": null,
       "width": null
      }
     },
     "2d86f172e49c421888630e92256209c1": {
      "model_module": "@jupyter-widgets/controls",
      "model_module_version": "2.0.0",
      "model_name": "ButtonStyleModel",
      "state": {
       "_model_module": "@jupyter-widgets/controls",
       "_model_module_version": "2.0.0",
       "_model_name": "ButtonStyleModel",
       "_view_count": null,
       "_view_module": "@jupyter-widgets/base",
       "_view_module_version": "2.0.0",
       "_view_name": "StyleView",
       "button_color": null,
       "font_family": null,
       "font_size": null,
       "font_style": null,
       "font_variant": null,
       "font_weight": null,
       "text_color": null,
       "text_decoration": null
      }
     },
     "44da6d13870d491087f7284eecf667f9": {
      "model_module": "@jupyter-widgets/base",
      "model_module_version": "2.0.0",
      "model_name": "LayoutModel",
      "state": {
       "_model_module": "@jupyter-widgets/base",
       "_model_module_version": "2.0.0",
       "_model_name": "LayoutModel",
       "_view_count": null,
       "_view_module": "@jupyter-widgets/base",
       "_view_module_version": "2.0.0",
       "_view_name": "LayoutView",
       "align_content": null,
       "align_items": null,
       "align_self": null,
       "border_bottom": null,
       "border_left": null,
       "border_right": null,
       "border_top": null,
       "bottom": null,
       "display": null,
       "flex": null,
       "flex_flow": null,
       "grid_area": null,
       "grid_auto_columns": null,
       "grid_auto_flow": null,
       "grid_auto_rows": null,
       "grid_column": null,
       "grid_gap": null,
       "grid_row": null,
       "grid_template_areas": null,
       "grid_template_columns": null,
       "grid_template_rows": null,
       "height": null,
       "justify_content": null,
       "justify_items": null,
       "left": null,
       "margin": null,
       "max_height": null,
       "max_width": null,
       "min_height": null,
       "min_width": null,
       "object_fit": null,
       "object_position": null,
       "order": null,
       "overflow": null,
       "padding": null,
       "right": null,
       "top": null,
       "visibility": null,
       "width": null
      }
     },
     "58a293581d46408e9ff401be1ef2d9e1": {
      "model_module": "@jupyter-widgets/base",
      "model_module_version": "2.0.0",
      "model_name": "LayoutModel",
      "state": {
       "_model_module": "@jupyter-widgets/base",
       "_model_module_version": "2.0.0",
       "_model_name": "LayoutModel",
       "_view_count": null,
       "_view_module": "@jupyter-widgets/base",
       "_view_module_version": "2.0.0",
       "_view_name": "LayoutView",
       "align_content": null,
       "align_items": null,
       "align_self": null,
       "border_bottom": null,
       "border_left": null,
       "border_right": null,
       "border_top": null,
       "bottom": null,
       "display": null,
       "flex": null,
       "flex_flow": null,
       "grid_area": null,
       "grid_auto_columns": null,
       "grid_auto_flow": null,
       "grid_auto_rows": null,
       "grid_column": null,
       "grid_gap": null,
       "grid_row": null,
       "grid_template_areas": null,
       "grid_template_columns": null,
       "grid_template_rows": null,
       "height": null,
       "justify_content": null,
       "justify_items": null,
       "left": null,
       "margin": null,
       "max_height": null,
       "max_width": null,
       "min_height": null,
       "min_width": null,
       "object_fit": null,
       "object_position": null,
       "order": null,
       "overflow": null,
       "padding": null,
       "right": null,
       "top": null,
       "visibility": null,
       "width": null
      }
     },
     "85f50404120945179e25f482eddaab40": {
      "model_module": "@jupyter-widgets/controls",
      "model_module_version": "2.0.0",
      "model_name": "FileUploadModel",
      "state": {
       "_dom_classes": [],
       "_model_module": "@jupyter-widgets/controls",
       "_model_module_version": "2.0.0",
       "_model_name": "FileUploadModel",
       "_view_count": null,
       "_view_module": "@jupyter-widgets/controls",
       "_view_module_version": "2.0.0",
       "_view_name": "FileUploadView",
       "accept": ".mtz",
       "button_style": "",
       "description": "Upload",
       "description_allow_html": false,
       "disabled": false,
       "error": "",
       "icon": "upload",
       "layout": "IPY_MODEL_fd4563dede7b436f955d83962d5b23a0",
       "multiple": false,
       "style": "IPY_MODEL_2d86f172e49c421888630e92256209c1",
       "tabbable": null,
       "tooltip": null,
       "value": []
      }
     },
     "932d42b59c5243abb63672bea93e1891": {
      "model_module": "@jupyter-widgets/controls",
      "model_module_version": "2.0.0",
      "model_name": "FileUploadModel",
      "state": {
       "_dom_classes": [],
       "_model_module": "@jupyter-widgets/controls",
       "_model_module_version": "2.0.0",
       "_model_name": "FileUploadModel",
       "_view_count": null,
       "_view_module": "@jupyter-widgets/controls",
       "_view_module_version": "2.0.0",
       "_view_name": "FileUploadView",
       "accept": ".mtz",
       "button_style": "",
       "description": "Upload",
       "description_allow_html": false,
       "disabled": false,
       "error": "",
       "icon": "upload",
       "layout": "IPY_MODEL_2ccb396cf93a4d6bbc10497873ef8426",
       "multiple": false,
       "style": "IPY_MODEL_de7e68e47fc7415a8bcd2d565b009257",
       "tabbable": null,
       "tooltip": null,
       "value": []
      }
     },
     "933d2dab424244e29c234272a766bf13": {
      "model_module": "@jupyter-widgets/controls",
      "model_module_version": "2.0.0",
      "model_name": "ButtonStyleModel",
      "state": {
       "_model_module": "@jupyter-widgets/controls",
       "_model_module_version": "2.0.0",
       "_model_name": "ButtonStyleModel",
       "_view_count": null,
       "_view_module": "@jupyter-widgets/base",
       "_view_module_version": "2.0.0",
       "_view_name": "StyleView",
       "button_color": null,
       "font_family": null,
       "font_size": null,
       "font_style": null,
       "font_variant": null,
       "font_weight": null,
       "text_color": null,
       "text_decoration": null
      }
     },
     "9a9d31662d5c40a69f9dad747ff494d4": {
      "model_module": "@jupyter-widgets/controls",
      "model_module_version": "2.0.0",
      "model_name": "ButtonModel",
      "state": {
       "_dom_classes": [],
       "_model_module": "@jupyter-widgets/controls",
       "_model_module_version": "2.0.0",
       "_model_name": "ButtonModel",
       "_view_count": null,
       "_view_module": "@jupyter-widgets/controls",
       "_view_module_version": "2.0.0",
       "_view_name": "ButtonView",
       "button_style": "",
       "description": "download",
       "disabled": false,
       "icon": "",
       "layout": "IPY_MODEL_58a293581d46408e9ff401be1ef2d9e1",
       "style": "IPY_MODEL_933d2dab424244e29c234272a766bf13",
       "tabbable": null,
       "tooltip": null
      }
     },
     "d30853bd077749a698fbf3a56ae97f21": {
      "model_module": "@jupyter-widgets/controls",
      "model_module_version": "2.0.0",
      "model_name": "FileUploadModel",
      "state": {
       "_dom_classes": [],
       "_model_module": "@jupyter-widgets/controls",
       "_model_module_version": "2.0.0",
       "_model_name": "FileUploadModel",
       "_view_count": null,
       "_view_module": "@jupyter-widgets/controls",
       "_view_module_version": "2.0.0",
       "_view_name": "FileUploadView",
       "accept": ".mtz",
       "button_style": "",
       "description": "Upload",
       "description_allow_html": false,
       "disabled": false,
       "error": "",
       "icon": "upload",
       "layout": "IPY_MODEL_44da6d13870d491087f7284eecf667f9",
       "multiple": false,
       "style": "IPY_MODEL_e2d281e3f4094022a5f3f742774f6754",
       "tabbable": null,
       "tooltip": null,
       "value": []
      }
     },
     "de7e68e47fc7415a8bcd2d565b009257": {
      "model_module": "@jupyter-widgets/controls",
      "model_module_version": "2.0.0",
      "model_name": "ButtonStyleModel",
      "state": {
       "_model_module": "@jupyter-widgets/controls",
       "_model_module_version": "2.0.0",
       "_model_name": "ButtonStyleModel",
       "_view_count": null,
       "_view_module": "@jupyter-widgets/base",
       "_view_module_version": "2.0.0",
       "_view_name": "StyleView",
       "button_color": null,
       "font_family": null,
       "font_size": null,
       "font_style": null,
       "font_variant": null,
       "font_weight": null,
       "text_color": null,
       "text_decoration": null
      }
     },
     "e2d281e3f4094022a5f3f742774f6754": {
      "model_module": "@jupyter-widgets/controls",
      "model_module_version": "2.0.0",
      "model_name": "ButtonStyleModel",
      "state": {
       "_model_module": "@jupyter-widgets/controls",
       "_model_module_version": "2.0.0",
       "_model_name": "ButtonStyleModel",
       "_view_count": null,
       "_view_module": "@jupyter-widgets/base",
       "_view_module_version": "2.0.0",
       "_view_name": "StyleView",
       "button_color": null,
       "font_family": null,
       "font_size": null,
       "font_style": null,
       "font_variant": null,
       "font_weight": null,
       "text_color": null,
       "text_decoration": null
      }
     },
     "fd4563dede7b436f955d83962d5b23a0": {
      "model_module": "@jupyter-widgets/base",
      "model_module_version": "2.0.0",
      "model_name": "LayoutModel",
      "state": {
       "_model_module": "@jupyter-widgets/base",
       "_model_module_version": "2.0.0",
       "_model_name": "LayoutModel",
       "_view_count": null,
       "_view_module": "@jupyter-widgets/base",
       "_view_module_version": "2.0.0",
       "_view_name": "LayoutView",
       "align_content": null,
       "align_items": null,
       "align_self": null,
       "border_bottom": null,
       "border_left": null,
       "border_right": null,
       "border_top": null,
       "bottom": null,
       "display": null,
       "flex": null,
       "flex_flow": null,
       "grid_area": null,
       "grid_auto_columns": null,
       "grid_auto_flow": null,
       "grid_auto_rows": null,
       "grid_column": null,
       "grid_gap": null,
       "grid_row": null,
       "grid_template_areas": null,
       "grid_template_columns": null,
       "grid_template_rows": null,
       "height": null,
       "justify_content": null,
       "justify_items": null,
       "left": null,
       "margin": null,
       "max_height": null,
       "max_width": null,
       "min_height": null,
       "min_width": null,
       "object_fit": null,
       "object_position": null,
       "order": null,
       "overflow": null,
       "padding": null,
       "right": null,
       "top": null,
       "visibility": null,
       "width": null
      }
     }
    },
    "version_major": 2,
    "version_minor": 0
   }
  }
 },
 "nbformat": 4,
 "nbformat_minor": 4
}
